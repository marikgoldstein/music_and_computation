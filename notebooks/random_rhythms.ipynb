{
 "cells": [
  {
   "cell_type": "code",
   "execution_count": 27,
   "metadata": {},
   "outputs": [],
   "source": [
    "import numpy as np\n",
    "\n",
    "def get_random(prob_long=0.5):\n",
    "    probs = [1 - prob_long, prob_long]\n",
    "    return np.random.choice(2, 1, p=probs).item()"
   ]
  },
  {
   "cell_type": "code",
   "execution_count": 3,
   "metadata": {},
   "outputs": [
    {
     "data": {
      "text/plain": [
       "2"
      ]
     },
     "execution_count": 3,
     "metadata": {},
     "output_type": "execute_result"
    }
   ],
   "source": [
    "def f1(f2, x):\n",
    "    return f2(x)\n",
    "\n",
    "example_x=2\n",
    "example_f2 = lambda x: x\n",
    "f1(example_f2,example_x)"
   ]
  },
  {
   "cell_type": "code",
   "execution_count": 40,
   "metadata": {},
   "outputs": [
    {
     "name": "stdout",
     "output_type": "stream",
     "text": [
      "0 (prob L=0.0) :  S S S S S S S S S S S S S S S S S S S S S S S S S\n",
      "1 (prob L=0.1) :  S S S S S S S L S S S S S L S S S S S L L S S S S\n",
      "2 (prob L=0.2) :  S S S S S S S S S S S S L S S S S S S S S S S S S\n",
      "3 (prob L=0.3) :  L L S L L S S L S S S L S L S L L L L S S S S S L\n",
      "4 (prob L=0.4) :  L S S L S S S S S S L S S L S S L S S S S S L S S\n",
      "5 (prob L=0.5) :  L L S S S S L S L S S S L L S S S L S L L S L S L\n",
      "6 (prob L=0.6) :  L S S L L L L L L S L L L L L L S L L S L S L S S\n",
      "7 (prob L=0.7) :  L S L L L L S L L L L L S L L L S L S S L L L L L\n",
      "8 (prob L=0.8) :  L S L S L L L L L L L L L L L L L L L L L S L L L\n",
      "9 (prob L=0.9) :  L L L L L L L L L L L S L L L L L L L L L L L L S\n"
     ]
    }
   ],
   "source": [
    "NOTES_PER_LINE = 25\n",
    "NUM_LINES = 10\n",
    "for line in range(NUM_LINES):\n",
    "    p_long = 0.1 * line\n",
    "    durations = \"\"    \n",
    "    for note in range(NOTES_PER_LINE):\n",
    "        random_sample = get_random(prob_long=p_long)\n",
    "        if random_sample == 0:\n",
    "            new_dur = \"S\"\n",
    "        else:\n",
    "            new_dur = \"L\"\n",
    "        durations = durations + \" \" + new_dur\n",
    "    print(line,\"(prob L={})\".format(round(p_long,2)),\":\",durations)"
   ]
  },
  {
   "cell_type": "code",
   "execution_count": null,
   "metadata": {},
   "outputs": [],
   "source": []
  },
  {
   "cell_type": "code",
   "execution_count": null,
   "metadata": {},
   "outputs": [],
   "source": []
  }
 ],
 "metadata": {
  "kernelspec": {
   "display_name": "Python 3",
   "language": "python",
   "name": "python3"
  },
  "language_info": {
   "codemirror_mode": {
    "name": "ipython",
    "version": 3
   },
   "file_extension": ".py",
   "mimetype": "text/x-python",
   "name": "python",
   "nbconvert_exporter": "python",
   "pygments_lexer": "ipython3",
   "version": "3.6.7"
  }
 },
 "nbformat": 4,
 "nbformat_minor": 2
}
