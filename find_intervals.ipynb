{
 "cells": [
  {
   "cell_type": "code",
   "execution_count": 13,
   "metadata": {},
   "outputs": [
    {
     "name": "stdout",
     "output_type": "stream",
     "text": [
      "Pitches: ['C', 'D#', 'G', 'F#', 'A']\n",
      "Intervals: [1, 2, 3, 4, 6, 7, 9]\n"
     ]
    }
   ],
   "source": [
    "series = [0,3,7,6,9]\n",
    "pitch_names = ['C', 'D#', 'G', 'F#', 'A']\n",
    "intervals = []\n",
    "for i in range(len(series) - 1):\n",
    "    for j in range(i+1, len(series)):\n",
    "        note_i = series[i]\n",
    "        note_j = series[j]\n",
    "        # absolute value of pitch difference\n",
    "        abs_diff = abs(note_j - note_i)\n",
    "        intervals.append(abs_diff)\n",
    "unique_intervals = list(set(intervals))\n",
    "unique_sorted_intervals = sorted(unique_intervals)\n",
    "print(\"Pitches:\",pitch_names)\n",
    "print(\"Intervals:\",unique_sorted_intervals)"
   ]
  },
  {
   "cell_type": "code",
   "execution_count": null,
   "metadata": {},
   "outputs": [],
   "source": []
  },
  {
   "cell_type": "code",
   "execution_count": null,
   "metadata": {},
   "outputs": [],
   "source": []
  },
  {
   "cell_type": "code",
   "execution_count": null,
   "metadata": {},
   "outputs": [],
   "source": []
  }
 ],
 "metadata": {
  "kernelspec": {
   "display_name": "Python 3",
   "language": "python",
   "name": "python3"
  },
  "language_info": {
   "codemirror_mode": {
    "name": "ipython",
    "version": 3
   },
   "file_extension": ".py",
   "mimetype": "text/x-python",
   "name": "python",
   "nbconvert_exporter": "python",
   "pygments_lexer": "ipython3",
   "version": "3.6.7"
  }
 },
 "nbformat": 4,
 "nbformat_minor": 2
}
