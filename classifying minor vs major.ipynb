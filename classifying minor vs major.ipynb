{
 "cells": [
  {
   "cell_type": "code",
   "execution_count": 1,
   "metadata": {},
   "outputs": [],
   "source": [
    "import music21\n",
    "import numpy as np\n",
    "\n",
    "# ML stuff\n",
    "import sklearn\n",
    "from sklearn.ensemble import RandomForestClassifier as RF\n",
    "from sklearn.model_selection import train_test_split\n",
    "from sklearn.preprocessing import StandardScaler\n",
    "from sklearn.datasets import make_moons, make_circles, make_classification\n",
    "from sklearn.neural_network import MLPClassifier\n",
    "from sklearn.neighbors import KNeighborsClassifier\n",
    "from sklearn.svm import SVC\n",
    "from sklearn.gaussian_process import GaussianProcessClassifier\n",
    "from sklearn.gaussian_process.kernels import RBF\n",
    "from sklearn.tree import DecisionTreeClassifier\n",
    "from sklearn.ensemble import RandomForestClassifier, AdaBoostClassifier\n",
    "from sklearn.naive_bayes import GaussianNB\n",
    "from sklearn.discriminant_analysis import QuadraticDiscriminantAnalysis"
   ]
  },
  {
   "cell_type": "code",
   "execution_count": 2,
   "metadata": {},
   "outputs": [],
   "source": [
    "chorales = music21.corpus.search('bach', fileExtensions='xml')"
   ]
  },
  {
   "cell_type": "code",
   "execution_count": 3,
   "metadata": {},
   "outputs": [],
   "source": [
    "def get_data():\n",
    "    pieces = []\n",
    "    modes = []\n",
    "    for i, chorale in enumerate(chorales):\n",
    "        score = chorale.parse()\n",
    "        top_voice = score.parts[0].pitches\n",
    "        pitches = [p.ps for p in top_voice]\n",
    "        if len(pitches) >= 40:\n",
    "            keep = pitches[:40]\n",
    "            pieces.append(keep)\n",
    "            m = score.analyze('key').mode\n",
    "            if m == 'minor':\n",
    "                modes.append(0)\n",
    "            else:\n",
    "                modes.append(1)\n",
    "                \n",
    "    # num_chorales rows by 40 columns\n",
    "    numpy_pieces = [np.array(p) for p in pieces]\n",
    "    numpy_pieces = np.vstack(numpy_pieces)\n",
    "    numpy_modes = np.array(modes)\n",
    "        \n",
    "    X=numpy_pieces\n",
    "    y=numpy_modes\n",
    "\n",
    "    SPLIT_IDX = int(X.shape[0] * 0.75)\n",
    "    X_train = X[:SPLIT_IDX]\n",
    "    y_train = y[:SPLIT_IDX]\n",
    "    X_test = X[SPLIT_IDX:]\n",
    "    y_test = y[SPLIT_IDX:]\n",
    "    \n",
    "    return X_train,y_train,X_test,y_test"
   ]
  },
  {
   "cell_type": "code",
   "execution_count": 4,
   "metadata": {},
   "outputs": [],
   "source": [
    "def classify(X_train,y_train,X_test,y_test):    \n",
    "    names = [\"Nearest Neighbors\", \"Linear SVM\", \"RBF SVM\", \"Gaussian Process\",\n",
    "             \"Decision Tree\", \"Random Forest\", \"Neural Net\", \"AdaBoost\",\n",
    "             \"Naive Bayes\", \"QDA\"]\n",
    "\n",
    "    classifiers = [\n",
    "        KNeighborsClassifier(3),\n",
    "        SVC(kernel=\"linear\", C=0.025),\n",
    "        SVC(gamma=2, C=1),\n",
    "        GaussianProcessClassifier(1.0 * RBF(1.0)),\n",
    "        DecisionTreeClassifier(max_depth=5),\n",
    "        RandomForestClassifier(max_depth=5, n_estimators=10, max_features=1),\n",
    "        MLPClassifier(alpha=1, max_iter=1000),\n",
    "        AdaBoostClassifier(),\n",
    "        GaussianNB(),\n",
    "        QuadraticDiscriminantAnalysis()]\n",
    "\n",
    "    for c in classifiers:\n",
    "        model = c\n",
    "        model.fit(X_train,y_train)\n",
    "        score_train = round(model.score(X_train,y_train),3)\n",
    "        score_test = round(model.score(X_test,y_test),3)\n",
    "        print(\"train:\",score_train, 'test:',score_test)"
   ]
  },
  {
   "cell_type": "code",
   "execution_count": 5,
   "metadata": {},
   "outputs": [],
   "source": [
    "X_train,y_train,X_test,y_test = get_data()"
   ]
  },
  {
   "cell_type": "code",
   "execution_count": 6,
   "metadata": {},
   "outputs": [
    {
     "name": "stdout",
     "output_type": "stream",
     "text": [
      "(246, 40)\n",
      "(246,)\n",
      "(83, 40)\n",
      "(83,)\n",
      "train: 0.801 test: 0.614\n",
      "train: 0.776 test: 0.614\n",
      "train: 0.996 test: 0.518\n",
      "train: 0.829 test: 0.602\n",
      "train: 0.809 test: 0.53\n",
      "train: 0.801 test: 0.542\n",
      "train: 0.524 test: 0.518\n",
      "train: 0.939 test: 0.59\n",
      "train: 0.569 test: 0.554\n",
      "train: 0.972 test: 0.566\n"
     ]
    }
   ],
   "source": [
    "print(X_train.shape)\n",
    "print(y_train.shape)\n",
    "print(X_test.shape)\n",
    "print(y_test.shape)\n",
    "classify(X_train,y_train,X_test,y_test)"
   ]
  },
  {
   "cell_type": "code",
   "execution_count": 7,
   "metadata": {},
   "outputs": [],
   "source": [
    "def get_data():\n",
    "    pieces = []\n",
    "    modes = []\n",
    "    \n",
    "    LEN=20\n",
    "    for i, chorale in enumerate(chorales):\n",
    "\n",
    "        score = chorale.parse()\n",
    "        \n",
    "        if len(score.parts) < 2:\n",
    "            continue\n",
    "            \n",
    "        voice1 = score.parts[0].pitches\n",
    "        voice2 = score.parts[1].pitches\n",
    "        \n",
    "        voice1 = [p.ps for p in voice1]\n",
    "        voice2 = [p.ps for p in voice2]\n",
    "        \n",
    "        if not (len(voice1) >= 20 and len(voice2) >= 20):\n",
    "            continue\n",
    "\n",
    "        voice1 = voice1[:LEN]\n",
    "        voice2 = voice2[:LEN]\n",
    "        piece = voice1 + voice2\n",
    "        pieces.append(piece)\n",
    "    \n",
    "        m = score.analyze('key').mode\n",
    "        if m == 'minor':\n",
    "            modes.append(0)\n",
    "        else:\n",
    "            modes.append(1)\n",
    "            \n",
    "    numpy_pieces = [np.array(p) for p in pieces]\n",
    "    numpy_pieces = np.vstack(numpy_pieces)\n",
    "    numpy_modes = np.array(modes)\n",
    "    \n",
    "    X=numpy_pieces\n",
    "    y=numpy_modes\n",
    "    \n",
    "    SPLIT_IDX = int(X.shape[0] * 0.75)\n",
    "    X_train = X[:SPLIT_IDX]\n",
    "    y_train = y[:SPLIT_IDX]\n",
    "    X_test = X[SPLIT_IDX:]\n",
    "    y_test = y[SPLIT_IDX:]\n",
    "    return X_train,y_train,X_test,y_test"
   ]
  },
  {
   "cell_type": "code",
   "execution_count": 8,
   "metadata": {},
   "outputs": [],
   "source": [
    "X_train,y_train,X_test,y_test = get_data()"
   ]
  },
  {
   "cell_type": "code",
   "execution_count": 9,
   "metadata": {},
   "outputs": [
    {
     "name": "stdout",
     "output_type": "stream",
     "text": [
      "(306, 40)\n",
      "(306,)\n",
      "(103, 40)\n",
      "(103,)\n",
      "train: 0.81 test: 0.612\n",
      "train: 0.699 test: 0.612\n",
      "train: 1.0 test: 0.495\n",
      "train: 0.922 test: 0.612\n",
      "train: 0.807 test: 0.621\n",
      "train: 0.801 test: 0.515\n",
      "train: 0.5 test: 0.476\n",
      "train: 0.886 test: 0.573\n",
      "train: 0.565 test: 0.583\n",
      "train: 0.954 test: 0.563\n"
     ]
    }
   ],
   "source": [
    "print(X_train.shape)\n",
    "print(y_train.shape)\n",
    "print(X_test.shape)\n",
    "print(y_test.shape)\n",
    "classify(X_train,y_train,X_test,y_test)"
   ]
  },
  {
   "cell_type": "code",
   "execution_count": null,
   "metadata": {},
   "outputs": [],
   "source": [
    "# 1 voice 40 notes\n",
    "train: 0.801 test: 0.614\n",
    "train: 0.776 test: 0.614\n",
    "train: 0.996 test: 0.518\n",
    "train: 0.829 test: 0.602\n",
    "train: 0.809 test: 0.53\n",
    "train: 0.801 test: 0.542\n",
    "train: 0.524 test: 0.518\n",
    "train: 0.939 test: 0.59\n",
    "train: 0.569 test: 0.554\n",
    "train: 0.972 test: 0.566\n",
    "# 2 voices, 20 notes each\n",
    "train: 0.81 test: 0.612\n",
    "train: 0.699 test: 0.612\n",
    "train: 1.0 test: 0.495\n",
    "train: 0.922 test: 0.612\n",
    "train: 0.807 test: 0.621\n",
    "train: 0.801 test: 0.515\n",
    "train: 0.5 test: 0.476\n",
    "train: 0.886 test: 0.573\n",
    "train: 0.565 test: 0.583\n",
    "train: 0.954 test: 0.563"
   ]
  }
 ],
 "metadata": {
  "kernelspec": {
   "display_name": "Python 3",
   "language": "python",
   "name": "python3"
  },
  "language_info": {
   "codemirror_mode": {
    "name": "ipython",
    "version": 3
   },
   "file_extension": ".py",
   "mimetype": "text/x-python",
   "name": "python",
   "nbconvert_exporter": "python",
   "pygments_lexer": "ipython3",
   "version": "3.6.7"
  }
 },
 "nbformat": 4,
 "nbformat_minor": 2
}
