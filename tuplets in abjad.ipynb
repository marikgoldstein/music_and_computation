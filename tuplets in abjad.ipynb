{
 "cells": [
  {
   "cell_type": "code",
   "execution_count": 1,
   "metadata": {},
   "outputs": [
    {
     "name": "stdout",
     "output_type": "stream",
     "text": [
      "NOTE: The Pärt demo requires abjad-ext-tonality\n"
     ]
    }
   ],
   "source": [
    "import abjad"
   ]
  },
  {
   "cell_type": "code",
   "execution_count": null,
   "metadata": {},
   "outputs": [],
   "source": [
    "'''\n",
    "Today we worked on the ferneyhough demo.\n",
    "It turns out that abjad's documents are a bit out of date.\n",
    "\n",
    "They have new tuplet functionality, independent of the fernyhough demo.\n",
    "Also, if you look at the Bartok demo and see abjad.Measure, that doesn't exist anymore.\n",
    "Abjad has no measures.\n",
    "\n",
    "It basically has abstract \"container\" types like Staff.\n",
    "And concrete \"leaf\" types like notes.\n",
    "\n",
    "Skim these\n",
    "\n",
    "http://abjad.mbrsi.org/reference_manual/containers.html\n",
    "http://abjad.mbrsi.org/api/abjad/core/Tuplet.html\n",
    "'''"
   ]
  },
  {
   "cell_type": "code",
   "execution_count": null,
   "metadata": {},
   "outputs": [],
   "source": [
    "'''\n",
    "First, just make a tuplet with a given multiplier and pitch/duration sequence explicitly\n",
    "\n",
    "Tuplet(multiplier, string)\n",
    "The multiplier (2,3) means 3:2\n",
    "The string consists of numbers for duration and commas for octave.\n",
    "'''\n",
    "\n",
    "t1 = abjad.Tuplet((2, 3), \"c'8 d'8 e'8\")\n",
    "abjad.show(t1)\n",
    "'''\n",
    "or display just rhythm\n",
    "'''\n",
    "staff = abjad.Staff([t1],lilypond_type='RhythmicStaff',)\n",
    "abjad.show(staff) "
   ]
  },
  {
   "cell_type": "code",
   "execution_count": null,
   "metadata": {},
   "outputs": [],
   "source": [
    "'''\n",
    "Next, we can do tuplets from a duration.\n",
    "Note that (1,8) is a duration, not a ratio.\n",
    "if you don't put a number after d,e,f,g, they\n",
    "will default to the same number 32 as set after c.\n",
    "'''\n",
    "t1 = abjad.Tuplet.from_duration((1,8), \"c'32 d' e' f' g'\")\n",
    "staff = abjad.Staff([t1],lilypond_type='RhythmicStaff')\n",
    "abjad.show(staff) \n",
    "'''\n",
    "We can fix the beaming later.\n",
    "'''"
   ]
  },
  {
   "cell_type": "code",
   "execution_count": 15,
   "metadata": {},
   "outputs": [
    {
     "name": "stdout",
     "output_type": "stream",
     "text": [
      "6\n",
      "r16\n",
      "c'8\n"
     ]
    }
   ],
   "source": [
    "'''\n",
    "Next, let's use the function we were working with earlier,\n",
    "Tuplet from duration and ratio. Turns out there is a newer\n",
    "version of it that isn't specific to the Ferneyhough demo\n",
    "and offers more flexibility.\n",
    "'''\n",
    "t1 = abjad.Tuplet.from_duration_and_ratio(\n",
    "        abjad.Duration(1, 4),\n",
    "        abjad.Ratio((1,2))\n",
    "    )\n",
    "\n",
    "staff = abjad.Staff([t1],lilypond_type='RhythmicStaff')\n",
    "abjad.show(staff) \n",
    "\n",
    "'''\n",
    "Lets specify a different ratio\n",
    "negatives for rests\n",
    "'''\n",
    "t2 = abjad.Tuplet.from_duration_and_ratio(\n",
    "        abjad.Duration(1, 4),\n",
    "        abjad.Ratio((-1,2,2))\n",
    "    )\n",
    "\n",
    "\n",
    "t3 = abjad.Tuplet.from_duration_and_ratio(\n",
    "        abjad.Duration(1, 4),\n",
    "        abjad.Ratio((2,-1,2))\n",
    "    )\n",
    "\n",
    "\n",
    "staff = abjad.Staff([t2,t3],lilypond_type='RhythmicStaff')\n",
    "\n",
    "'''\n",
    "Now be careful. Staff is a container.\n",
    "It has 6 leaves, the members of the two tuplets\n",
    "We can attach time signatures at leaves.\n",
    "\n",
    "'''\n",
    "leaves = abjad.select(staff).leaves()\n",
    "time_signature = abjad.TimeSignature((1, 4))\n",
    "abjad.attach(time_signature, leaves[0])\n",
    "abjad.show(staff) "
   ]
  },
  {
   "cell_type": "code",
   "execution_count": 16,
   "metadata": {},
   "outputs": [],
   "source": [
    "'''\n",
    "Nested Tuplets\n",
    "\n",
    "Let's make a tuple, delete the first part,\n",
    "and replace with another tuple that fits the duration\n",
    "of the deleted part.\n",
    "'''\n",
    "\n",
    "t1 = abjad.Tuplet.from_duration_and_ratio(\n",
    "        abjad.Duration(1, 4),\n",
    "        abjad.Ratio((1,2))\n",
    "    )\n",
    "t1.pop(0)\n",
    "t2 = abjad.Tuplet.from_duration((1,8), \"c'32 d' e' f' g'\")\n",
    "t1.insert(0, t2)\n",
    "staff = abjad.Staff([t1],lilypond_type='RhythmicStaff',)\n",
    "abjad.show(staff) "
   ]
  },
  {
   "cell_type": "code",
   "execution_count": 17,
   "metadata": {},
   "outputs": [],
   "source": [
    "'''\n",
    "Here's the demo from earlier.\n",
    "http://abjad.mbrsi.org/literature_examples/ferneyhough.html\n",
    "'''\n",
    "\n",
    "import abjad\n",
    "from abjad.demos.ferneyhough import FerneyhoughDemo\n",
    "ferneyhough = FerneyhoughDemo()\n",
    "make_nested_tuplet = ferneyhough.make_nested_tuplet\n",
    "\n",
    "def make_row_of_nested_tuplets(duration, ratio, column_count):\n",
    "    tups = []\n",
    "    assert column_count > 0\n",
    "    for i in range(column_count):\n",
    "        new_tup = make_nested_tuplet(quarter_dur, ratio, i+1)\n",
    "        if new_tup.multiplier==1:\n",
    "            new_tup.hide = True\n",
    "        tups.append(new_tup)\n",
    "    return tups\n",
    "\n",
    "def make_rows_of_nested_tuplets(duration, row_count, column_count, increasing_side='right'):\n",
    "    assert row_count > 0\n",
    "    assert increasing_side in ['left','right'],\"increasing side should be left or right\"\n",
    "    rows = []\n",
    "    for r in range(row_count):\n",
    "        if increasing_side == 'right':\n",
    "            ratio = (1, r+1)\n",
    "        else:\n",
    "            ratio = (r+1, 1)\n",
    "        new_row = make_row_of_nested_tuplets(duration, ratio, column_count)\n",
    "        rows.append(new_row)\n",
    "    return rows\n",
    "    \n",
    "score = abjad.Score()\n",
    "quarter_dur = abjad.Duration(1, 4)\n",
    "ROWS = 5\n",
    "COLUMNS = 3\n",
    "rows = make_rows_of_nested_tuplets(quarter_dur, ROWS, COLUMNS,increasing_side='right')\n",
    "for row in rows:\n",
    "    staff = abjad.Staff(row, lilypond_type='RhythmicStaff')\n",
    "    score.append(staff)\n",
    "abjad.show(score)"
   ]
  },
  {
   "cell_type": "code",
   "execution_count": null,
   "metadata": {},
   "outputs": [],
   "source": []
  }
 ],
 "metadata": {
  "kernelspec": {
   "display_name": "Python 3",
   "language": "python",
   "name": "python3"
  },
  "language_info": {
   "codemirror_mode": {
    "name": "ipython",
    "version": 3
   },
   "file_extension": ".py",
   "mimetype": "text/x-python",
   "name": "python",
   "nbconvert_exporter": "python",
   "pygments_lexer": "ipython3",
   "version": "3.6.10"
  }
 },
 "nbformat": 4,
 "nbformat_minor": 4
}
