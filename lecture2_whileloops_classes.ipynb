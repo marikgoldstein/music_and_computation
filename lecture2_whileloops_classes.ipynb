{
 "cells": [
  {
   "cell_type": "code",
   "execution_count": 1,
   "metadata": {},
   "outputs": [
    {
     "name": "stdout",
     "output_type": "stream",
     "text": [
      "continuing to search\n",
      "continuing to search\n",
      "continuing to search\n",
      "continuing to search\n",
      "8\n",
      "this code happens after the break is hit\n"
     ]
    }
   ],
   "source": [
    "# break stops a loop under some condition\n",
    "numbers = [1,6,10,4,8,1000]\n",
    "# \"break\" stops a loop\n",
    "for num in numbers:\n",
    "    if num == 8:\n",
    "        print(num)\n",
    "        break\n",
    "    else:\n",
    "        print(\"continuing to search\")\n",
    "print(\"this code happens after the break is hit\")"
   ]
  },
  {
   "cell_type": "code",
   "execution_count": 2,
   "metadata": {},
   "outputs": [
    {
     "name": "stdout",
     "output_type": "stream",
     "text": [
      "0\n",
      "....\n",
      "....\n",
      "1\n",
      "....\n",
      "....\n",
      "2\n",
      "....\n",
      "....\n",
      "3\n",
      "....\n",
      "....\n",
      "4\n",
      "....\n",
      "....\n",
      "6\n",
      "....\n",
      "....\n",
      "7\n",
      "....\n",
      "....\n",
      "8\n",
      "....\n",
      "....\n",
      "9\n",
      "....\n",
      "....\n"
     ]
    }
   ],
   "source": [
    "# continue skips the current iteration of the loop\n",
    "for i in range(10):\n",
    "    if i == 5:\n",
    "        continue\n",
    "    print(i)\n",
    "    print(\"....\")\n",
    "    print(\"....\")"
   ]
  },
  {
   "cell_type": "code",
   "execution_count": 3,
   "metadata": {},
   "outputs": [
    {
     "name": "stdout",
     "output_type": "stream",
     "text": [
      "x is currently: 1\n",
      "x is currently: 2\n",
      "x is currently: 4\n",
      "x is currently: 8\n",
      "x is currently: 16\n",
      "x is currently: 32\n",
      "x is currently: 64\n"
     ]
    }
   ],
   "source": [
    "# while loops continue indefinitely\n",
    "# until their condition is false.\n",
    "x = 1\n",
    "# keep doubling x indefinitely \n",
    "# until its larger than 64\n",
    "while x <= 64:\n",
    "    print(\"x is currently:\",x)\n",
    "    x = x * 2"
   ]
  },
  {
   "cell_type": "code",
   "execution_count": 4,
   "metadata": {},
   "outputs": [],
   "source": [
    "'''\n",
    "Classes are like a blueprint for a new python type.\n",
    "An object is one instance of that class.\n",
    "\n",
    "These classes/objects can contain many variables\n",
    "(called their attributes) and functions (called their methods)\n",
    "'''\n",
    "class Bicycle:\n",
    "    '''\n",
    "    An init function creates an instance\n",
    "    of the class (an object). To use the\n",
    "    init function, confusingly, you just\n",
    "    use the class name as a function\n",
    "    my_object = ClassName()\n",
    "    along with any input variables,\n",
    "    my_bike = Bicycle(5.0,\"Mark's Bike\")\n",
    "    \n",
    "    think about self keyword as the bike saying\n",
    "    \"this is my variable, this is my function\"\n",
    "    '''\n",
    "    def __init__(self,starting_speed,name):\n",
    "        # attributes\n",
    "        self.speed = starting_speed\n",
    "        self.name = name\n",
    "    # methods\n",
    "    def ring_bell(self):\n",
    "        print(\"riiiiiing\")\n",
    "    def increment_speed(self):\n",
    "        self.speed = self.speed + 1 "
   ]
  },
  {
   "cell_type": "code",
   "execution_count": 5,
   "metadata": {},
   "outputs": [
    {
     "name": "stdout",
     "output_type": "stream",
     "text": [
      "10.0\n"
     ]
    }
   ],
   "source": [
    "bike1 = Bicycle(10.0,\"Stratis' bike\")\n",
    "bike2 = Bicycle(11.0, \"Mark's bike\")\n",
    "\n",
    "'''\n",
    "Notice here we don't use \"self\"\n",
    "like we did inside of the definition\n",
    "of Bicycle.\n",
    "We are \"outside of the bike\". We look\n",
    "at it in the 3rd person. We use its\n",
    "name bike1.speed instead of self.speed\n",
    "'''\n",
    "print(bike1.speed)"
   ]
  },
  {
   "cell_type": "code",
   "execution_count": 6,
   "metadata": {},
   "outputs": [
    {
     "name": "stdout",
     "output_type": "stream",
     "text": [
      "Stratis' bike has speed 20.0\n",
      "Mark's bike has speed 11.0\n"
     ]
    }
   ],
   "source": [
    "bikes = [bike1,bike2]\n",
    "# make Stratis bike more quickly\n",
    "for j in range(10):\n",
    "    bikes[0].increment_speed()\n",
    "\n",
    "for i in range(len(bikes)):\n",
    "    bike_i = bikes[i]\n",
    "    print(bike_i.name, \"has speed\",bike_i.speed)"
   ]
  },
  {
   "cell_type": "code",
   "execution_count": 7,
   "metadata": {},
   "outputs": [],
   "source": [
    "# Classes can contain objects as attributes\n",
    "class BicycleFleet:\n",
    "    \n",
    "    def __init__(self, bike_list):\n",
    "        '''\n",
    "        the assert will stop the program\n",
    "        and print the message if some element\n",
    "        of bike_list is not a Bicycle.\n",
    "        '''\n",
    "        for bike in bike_list:\n",
    "            assert isinstance(bike, Bicycle), \"need a bike list\"\n",
    "            \n",
    "        # save the list\n",
    "        self.bike_fleet = bike_list\n",
    "\n",
    "    def print_all_bike_names(self):\n",
    "        '''\n",
    "        loop through each bike and print\n",
    "        that bike's name\n",
    "        '''\n",
    "        for bike in self.bike_fleet:\n",
    "            print(bike.name)"
   ]
  },
  {
   "cell_type": "code",
   "execution_count": 8,
   "metadata": {},
   "outputs": [
    {
     "name": "stdout",
     "output_type": "stream",
     "text": [
      "Stratis' bike\n",
      "Mark's bike\n"
     ]
    }
   ],
   "source": [
    "bike1 = Bicycle(10.0,\"Stratis' bike\")\n",
    "bike2 = Bicycle(11.0, \"Mark's bike\")\n",
    "bikes = [bike1,bike2]\n",
    "my_bike_fleet = BicycleFleet(bikes)\n",
    "my_bike_fleet.print_all_bike_names()"
   ]
  }
 ],
 "metadata": {
  "kernelspec": {
   "display_name": "Python 3",
   "language": "python",
   "name": "python3"
  },
  "language_info": {
   "codemirror_mode": {
    "name": "ipython",
    "version": 3
   },
   "file_extension": ".py",
   "mimetype": "text/x-python",
   "name": "python",
   "nbconvert_exporter": "python",
   "pygments_lexer": "ipython3",
   "version": "3.6.7"
  }
 },
 "nbformat": 4,
 "nbformat_minor": 2
}
