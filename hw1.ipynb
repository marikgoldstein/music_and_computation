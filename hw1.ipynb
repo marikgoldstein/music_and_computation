{
 "cells": [
  {
   "cell_type": "code",
   "execution_count": 4,
   "metadata": {},
   "outputs": [
    {
     "name": "stdout",
     "output_type": "stream",
     "text": [
      "TODO\n"
     ]
    }
   ],
   "source": [
    "'''\n",
    "Problem 1\n",
    "\n",
    "Given a list called a,\n",
    "write a nested for-loop that visits \n",
    "each pair of entries in a. \n",
    "\n",
    "When I say visit, I mean you can just print them.\n",
    "Make sure it only visits each pair once.\n",
    "\n",
    "Naively, you might try\n",
    "\n",
    "a = ['a','b','c']\n",
    "for i in range(len(a)):\n",
    "    for j in range(len(a)):\n",
    "        print(\"i:\",i, a[i])\n",
    "        print(\"j:\",j, a[j])\n",
    "        \n",
    "But:\n",
    "Problem 1: we check some positions with i and j in the same position.\n",
    "No reason to do that.\n",
    "\n",
    "Problem 2: we visit both (i=0,j=1 ) and (j=0,i=1) which repeats\n",
    "when there is no need to.\n",
    "\n",
    "Modify the limits of the two loops to only visit each pair once.\n",
    "'''\n",
    "print(\"TODO\")"
   ]
  },
  {
   "cell_type": "code",
   "execution_count": 5,
   "metadata": {},
   "outputs": [
    {
     "name": "stdout",
     "output_type": "stream",
     "text": [
      "TODO\n"
     ]
    }
   ],
   "source": [
    "'''\n",
    "Problem 2: generate symbolic rhythms\n",
    "\n",
    "\n",
    "REVIEW\n",
    "First, review the lecture1 code\n",
    "\n",
    "https://colab.research.google.com/github/marikgoldstein/music_and_computation/blob/master/lecture1.ipynb\n",
    "\n",
    "to recall some details on writing functions \n",
    "and using numpy.random.choice. Recall that a numpy array is like a list, except it supports\n",
    "some additional operations.\n",
    "\n",
    "PROBLEM\n",
    "Great. Now, lets generate some rhythms.\n",
    "Our sequences will only contain two durations:\n",
    "- \"S\" (standing for short)\n",
    "- \"L\" (standing for long). \n",
    "\n",
    "Generate 10 sequences of rhythms, each of 25 durations.\n",
    "In the first sequence, the probability of choosing\n",
    "\"L\" is 0.0. In the next, the probability of choosing \"L\"\n",
    "is 0.1, and so on. \n",
    "\n",
    "Here is some example printed output from my solution:\n",
    "\n",
    "0 (prob L=0.0) :  S S S S S S S S S S S S S S S S S S S S S S S S S\n",
    "1 (prob L=0.1) :  S S S S S S S L S S S S S L S S S S S L L S S S S\n",
    "2 (prob L=0.2) :  S S S S S S S S S S S S L S S S S S S S S S S S S\n",
    "3 (prob L=0.3) :  L L S L L S S L S S S L S L S L L L L S S S S S L\n",
    "4 (prob L=0.4) :  L S S L S S S S S S L S S L S S L S S S S S L S S\n",
    "5 (prob L=0.5) :  L L S S S S L S L S S S L L S S S L S L L S L S L\n",
    "6 (prob L=0.6) :  L S S L L L L L L S L L L L L L S L L S L S L S S\n",
    "7 (prob L=0.7) :  L S L L L L S L L L L L S L L L S L S S L L L L L\n",
    "8 (prob L=0.8) :  L S L S L L L L L L L L L L L L L L L L L S L L L\n",
    "9 (prob L=0.9) :  L L L L L L L L L L L S L L L L L L L L L L L L S\n",
    "\n",
    "You should write this in a nice way that allows a user\n",
    "to easily change the number of sequences or the number of durations\n",
    "in each sequence.\n",
    "\n",
    "hint: use np.random.choice\n",
    "hint: the probability of L is determined by which iteration\n",
    "of the loop we are currently in\n",
    "'''\n",
    "print(\"TODO\")"
   ]
  },
  {
   "cell_type": "code",
   "execution_count": null,
   "metadata": {},
   "outputs": [],
   "source": [
    "'''\n",
    "Problem 3:\n",
    "\n",
    "Now let's generate some rhythms where the durations are numeric\n",
    "continuous values instead of symbols like \"S\" and \"L\".\n",
    "We should randomly draw numbers from a probability distribution\n",
    "defined over positive real numbers, for example the \n",
    "Exponential distribution. \n",
    "It would be great if you could try a few different distributions.\n",
    "\n",
    "Then if you are feeling creative, you could try generating\n",
    "a sequence where you use one distribution, but change\n",
    "that distribution's parameters over time, \n",
    "much like \n",
    "we changed the probability of \"L\" as we proceeded in the previous problem.\n",
    "\n",
    "Note: this is open-ended. Up to you how many rhythms to generate.\n",
    "Just make sure to practice looking up numpy documentation\n",
    "and learning about distributions. \n",
    "\n",
    "\n",
    "More info on how to do this:\n",
    "\n",
    "First, watch my summary of probability distributions\n",
    "(see \"probability review video\" on the piazza)\n",
    "\n",
    "Next, read this page and scroll down to the distributions section\n",
    "to see which distributions numpy offers.\n",
    "https://docs.scipy.org/doc/numpy-1.13.0/reference/routines.random.html\n",
    "\n",
    "Next, choose some of the distributions and wikipedia them.\n",
    "You need to pay attention to a few things on the right hand side\n",
    "as mentioned in my video (parameters and support).\n",
    "\n",
    "One example, the Beta distribution\n",
    "https://en.wikipedia.org/wiki/Beta_distribution\n",
    "\n",
    "It has two parameters, a (alpha) and b (beta).\n",
    "each has to be greater than 0. No matter\n",
    "the value of a or b, you will always get \n",
    "samples in the support, (0,1), \n",
    "the interval between 0 and 1.\n",
    "Depending on the value of a and b, different\n",
    "intervals within (0,1) will be more likely.\n",
    "'''\n",
    "print(\"TODO\")"
   ]
  }
 ],
 "metadata": {
  "kernelspec": {
   "display_name": "Python 3",
   "language": "python",
   "name": "python3"
  },
  "language_info": {
   "codemirror_mode": {
    "name": "ipython",
    "version": 3
   },
   "file_extension": ".py",
   "mimetype": "text/x-python",
   "name": "python",
   "nbconvert_exporter": "python",
   "pygments_lexer": "ipython3",
   "version": "3.6.7"
  }
 },
 "nbformat": 4,
 "nbformat_minor": 2
}
