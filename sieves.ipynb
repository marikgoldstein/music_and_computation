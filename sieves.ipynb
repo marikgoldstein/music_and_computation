{
 "cells": [
  {
   "cell_type": "code",
   "execution_count": 2,
   "metadata": {},
   "outputs": [],
   "source": [
    "import music21\n",
    "import numpy\n",
    "\n",
    "sieve = music21.sieve.Sieve('3@2|7@1')\n",
    "pitch_nums = sieve.segment()\n",
    "punit = 0.50\n",
    "runit = 0.25\n",
    "starting_pitch = 60\n",
    "pitch_nums = numpy.arråay(pitch_nums)\n",
    "pitch_nums = starting_pitch + pitch_nums * punit\n",
    "pitch_nums = list(pitch_nums)\n",
    "print(\"Pitch:\",pitch_nums)\n",
    "\n",
    "durations = sieve.segment(segmentFormat = 'width')\n",
    "durations = list(numpy.array(durations) * runit) + [2.0]\n",
    "print(\"Durations:\",durations)\n",
    "durations = [music21.duration.Duration(d) for d in durations]\n",
    "\n",
    "notes = []\n",
    "for i,p in enumerate(pitch_nums):\n",
    "    n = music21.note.Note(p)\n",
    "    n.duration = durations[i]\n",
    "    notes.append(n)\n",
    "\n",
    "stream1 = music21.stream.Stream()\n",
    "stream1.append(notes)\n",
    "#stream1.show()\n",
    "sp = music21.midi.realtime.StreamPlayer(stream1)\n",
    "sp.play()"
   ]
  },
  {
   "cell_type": "code",
   "execution_count": 34,
   "metadata": {},
   "outputs": [
    {
     "name": "stdout",
     "output_type": "stream",
     "text": [
      "Pitch: [60.5, 61.0, 62.5, 64.0, 65.5, 67.0, 67.5, 68.5, 70.0, 71.0, 71.5, 73.0, 74.5, 76.0, 77.5, 78.0, 79.0, 80.5, 81.5, 82.0, 83.5, 85.0, 86.5, 88.0, 88.5, 89.5, 91.0, 92.0, 92.5, 94.0, 95.5, 97.0, 98.5, 99.0, 100.0, 101.5, 102.5, 103.0, 104.5, 106.0, 107.5, 109.0, 109.5]\n",
      "Durations: [0.25, 0.75, 0.75, 0.75, 0.75, 0.25, 0.5, 0.75, 0.5, 0.25, 0.75, 0.75, 0.75, 0.75, 0.25, 0.5, 0.75, 0.5, 0.25, 0.75, 0.75, 0.75, 0.75, 0.25, 0.5, 0.75, 0.5, 0.25, 0.75, 0.75, 0.75, 0.75, 0.25, 0.5, 0.75, 0.5, 0.25, 0.75, 0.75, 0.75, 0.75, 0.25, 2.0]\n",
      "pygame 1.9.6\n",
      "Hello from the pygame community. https://www.pygame.org/contribute.html\n"
     ]
    }
   ],
   "source": [
    "sieve = music21.sieve.Sieve('3@2|7@1')\n",
    "pitch_nums = sieve.segment()\n",
    "punit = 0.50\n",
    "runit = 0.25\n",
    "starting_pitch = 60\n",
    "pitch_nums = numpy.arråay(pitch_nums)\n",
    "pitch_nums = starting_pitch + pitch_nums * punit\n",
    "pitch_nums = list(pitch_nums)\n",
    "print(\"Pitch:\",pitch_nums)\n",
    "\n",
    "durations = sieve.segment(segmentFormat = 'width')\n",
    "durations = list(numpy.array(durations) * runit) + [2.0]\n",
    "print(\"Durations:\",durations)\n",
    "durations = [music21.duration.Duration(d) for d in durations]\n",
    "\n",
    "notes = []\n",
    "for i,p in enumerate(pitch_nums):\n",
    "    n = music21.note.Note(p)\n",
    "    n.duration = durations[i]\n",
    "    notes.append(n)\n",
    "\n",
    "stream1 = music21.stream.Stream()\n",
    "stream1.append(notes)\n",
    "#stream1.show()\n",
    "sp = music21.midi.realtime.StreamPlayer(stream1)\n",
    "sp.play()\n",
    "\n",
    "\n"
   ]
  },
  {
   "cell_type": "code",
   "execution_count": null,
   "metadata": {},
   "outputs": [],
   "source": []
  },
  {
   "cell_type": "code",
   "execution_count": null,
   "metadata": {},
   "outputs": [],
   "source": []
  }
 ],
 "metadata": {
  "kernelspec": {
   "display_name": "Python 3",
   "language": "python",
   "name": "python3"
  },
  "language_info": {
   "codemirror_mode": {
    "name": "ipython",
    "version": 3
   },
   "file_extension": ".py",
   "mimetype": "text/x-python",
   "name": "python",
   "nbconvert_exporter": "python",
   "pygments_lexer": "ipython3",
   "version": "3.6.7"
  }
 },
 "nbformat": 4,
 "nbformat_minor": 2
}
