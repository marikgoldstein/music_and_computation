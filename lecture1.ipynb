{
 "cells": [
  {
   "cell_type": "code",
   "execution_count": 1,
   "metadata": {},
   "outputs": [
    {
     "name": "stdout",
     "output_type": "stream",
     "text": [
      "30\n"
     ]
    }
   ],
   "source": [
    "'''\n",
    "define a function called mult2,\n",
    "which takes in one input,\n",
    "calls that input x,\n",
    "multiplies it by 2,\n",
    "returns the result\n",
    "'''\n",
    "def mult2(x):\n",
    "    return x*2\n",
    "print(mult2(15))"
   ]
  },
  {
   "cell_type": "code",
   "execution_count": 2,
   "metadata": {},
   "outputs": [
    {
     "name": "stdout",
     "output_type": "stream",
     "text": [
      "5\n",
      "6\n"
     ]
    }
   ],
   "source": [
    "'''\n",
    "define a function that takes one, optionally two, inputs,\n",
    "calls the first input x,\n",
    "the optional 2nd input is calld y \n",
    "and defaults to 3 if not given,\n",
    "result is the sum of x and y\n",
    "'''\n",
    "def my_sum(x,y=3):\n",
    "    # 3 is default value of y\n",
    "    return x+y\n",
    "\n",
    "print(my_sum(2))\n",
    "print(my_sum(2,4))"
   ]
  },
  {
   "cell_type": "code",
   "execution_count": 3,
   "metadata": {},
   "outputs": [
    {
     "name": "stdout",
     "output_type": "stream",
     "text": [
      "159\n",
      "186\n",
      "168\n",
      "163\n",
      "154\n",
      "170\n"
     ]
    }
   ],
   "source": [
    "# load the library called numpy\n",
    "import numpy\n",
    "\n",
    "one_sixth = 1.0 / 6.0\n",
    "choices = [1,2,3,4,5,6]\n",
    "results = []\n",
    "probs = [one_sixth, one_sixth, one_sixth, one_sixth, one_sixth, one_sixth]\n",
    "for random_choice in range(1000):\n",
    "    \n",
    "    # if we dont supply the input p,\n",
    "    # random choice will assume all choics are equally likely\n",
    "    result = numpy.random.choice(choices, size=1,p=probs)\n",
    "    \n",
    "    \n",
    "    # the random choice returns a numpy array\n",
    "    # (which is like a list). We asked for size 1,\n",
    "    # so it only contains one entry. We index with [0]\n",
    "    # to get that single returned value.\n",
    "    result = result[0]\n",
    "    results.append(result)\n",
    "    \n",
    "for i in [1,2,3,4,5,6]:\n",
    "    print(results.count(i))"
   ]
  },
  {
   "cell_type": "code",
   "execution_count": 4,
   "metadata": {},
   "outputs": [],
   "source": [
    "'''\n",
    "Define a function that rolls a fair die\n",
    "num_rolls number of times (default 100). The die has\n",
    "num_choices number of sides (default 6).\n",
    "'''\n",
    "def roll_die(num_rolls=100, num_choices=6):\n",
    "    choices = list(range(1,num_choices + 1))\n",
    "    counter = numpy.zeros(num_choices)\n",
    "    for random_choice in range(num_rolls):\n",
    "        result = numpy.random.choice(choices, size=1)\n",
    "        result = result[0]\n",
    "        \n",
    "        # increment the counter in the correct position\n",
    "        list_index = result - 1\n",
    "        counter[list_index] = counter[list_index] + 1 \n",
    "    return counter"
   ]
  },
  {
   "cell_type": "code",
   "execution_count": 5,
   "metadata": {},
   "outputs": [
    {
     "name": "stdout",
     "output_type": "stream",
     "text": [
      "[329. 320. 351.]\n"
     ]
    }
   ],
   "source": [
    "print(roll_die(num_rolls=1000,num_choices=3))"
   ]
  }
 ],
 "metadata": {
  "kernelspec": {
   "display_name": "Python 3",
   "language": "python",
   "name": "python3"
  },
  "language_info": {
   "codemirror_mode": {
    "name": "ipython",
    "version": 3
   },
   "file_extension": ".py",
   "mimetype": "text/x-python",
   "name": "python",
   "nbconvert_exporter": "python",
   "pygments_lexer": "ipython3",
   "version": "3.6.7"
  }
 },
 "nbformat": 4,
 "nbformat_minor": 2
}
